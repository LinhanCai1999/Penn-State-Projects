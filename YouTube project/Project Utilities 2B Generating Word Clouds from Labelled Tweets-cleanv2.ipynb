{
  "cells": [
    {
      "metadata": {},
      "cell_type": "markdown",
      "source": "## PSU DS 200 \n## Project Utility Jupyter Notebook 2B\n### November 21, 2019\n### Instructor: John Yen\n\n#### This Jupyter Notebook is intended to be used to construct Project Deliverables #2 for the Mini-project of DS 200. \n\n## The goal of this utility is to generate word clouds from labelled tweets\n\n#### Acknowledgement: The datascience module is developed by University of California Berkeley for its data 8 course.\n\n#### Why generating word clouds?\n- Word clouds provide a visualization that reflect the frequency of words through the font size of the word.\n- Word clouds of each class can be compared with important features identified by decision trees.\n- For example, the following questions can be asked:\n    * Are important features in the word cloud?\n    * Are there frequent words (i.e., words with large font in the word cloud) that are not important features?  If so, why?\n"
    },
    {
      "metadata": {
        "trusted": true
      },
      "cell_type": "code",
      "source": "!pip install datascience",
      "execution_count": null,
      "outputs": []
    },
    {
      "metadata": {},
      "cell_type": "markdown",
      "source": "### Install Wordcloud\nWe also need install the wordcloud python module"
    },
    {
      "metadata": {
        "trusted": true
      },
      "cell_type": "code",
      "source": "!pip install wordcloud",
      "execution_count": null,
      "outputs": []
    },
    {
      "metadata": {
        "trusted": true
      },
      "cell_type": "code",
      "source": "import datascience\nimport numpy as np\nimport graphviz\n\nfrom datascience import *\nfrom sklearn.feature_extraction.text import CountVectorizer\nfrom sklearn.model_selection import train_test_split\nfrom sklearn.pipeline import Pipeline\nfrom sklearn import tree\nfrom sklearn.tree import DecisionTreeClassifier\nfrom sklearn import metrics \n\n\nfrom sklearn.metrics import f1_score\nfrom sklearn.metrics import precision_score\nfrom sklearn.metrics import recall_score\nfrom sklearn.model_selection import cross_val_score\nfrom sklearn.model_selection import cross_validate\nfrom sklearn.base import ClassifierMixin\nfrom sklearn.model_selection import StratifiedKFold\nfrom sklearn.metrics import precision_recall_fscore_support\n\nfrom graphviz import *\n\nimport pandas as pd\nimport numpy as np\n\nfrom sklearn.externals import joblib\n\nimport os\nos.environ[\"PATH\"] += os.pathsep + 'C:/Program Files (x86)/Graphviz2.38/bin/'\n\nfrom wordcloud import WordCloud, STOPWORDS, ImageColorGenerator\n",
      "execution_count": null,
      "outputs": []
    },
    {
      "metadata": {
        "trusted": true
      },
      "cell_type": "code",
      "source": "import matplotlib.pyplot as plt\nfrom matplotlib.pyplot import *",
      "execution_count": null,
      "outputs": []
    },
    {
      "metadata": {
        "trusted": true
      },
      "cell_type": "code",
      "source": "matplotlib.use('Agg', warn=False)\n%matplotlib inline\nimport matplotlib.pyplot as plots\nplots.style.use('fivethirtyeight')\n\nimport warnings\nwarnings.simplefilter(action=\"ignore\", category=FutureWarning )",
      "execution_count": null,
      "outputs": []
    },
    {
      "metadata": {
        "trusted": true
      },
      "cell_type": "code",
      "source": "t1 = Table.read_table(\"XXX.csv\", sep =',')\nt1.show(10)",
      "execution_count": null,
      "outputs": []
    },
    {
      "metadata": {},
      "cell_type": "markdown",
      "source": "### The code below extract the \"class label\" from the CSV file to find out the total number of positive/supportive vs negative/non-supportive tweets in the labelled data set.\n### If you use Climage Change tweets, the column label for the class label is 'Support'.\n### If you use Airline Sentiment tweets, the column label for the class label is 'airline_sentiment' (as shown in Lab9)"
    },
    {
      "metadata": {
        "trusted": true
      },
      "cell_type": "code",
      "source": "t1_positive = t1.where('Support', are.equal_to(1))\nt1_negative = t1.where('Support', are.equal_to(0))\nt1_positive",
      "execution_count": null,
      "outputs": []
    },
    {
      "metadata": {
        "trusted": true
      },
      "cell_type": "code",
      "source": "positive_tweets = t1_positive.select(\"Text\")\npositive_tweets",
      "execution_count": null,
      "outputs": []
    },
    {
      "metadata": {
        "trusted": true
      },
      "cell_type": "code",
      "source": "# Save the positive tweets as a text file\npositive_tweet_text = positive_tweets.as_text()\npositive_tweet_text",
      "execution_count": null,
      "outputs": []
    },
    {
      "metadata": {},
      "cell_type": "markdown",
      "source": "### Generate a word cloud using text of positive tweets"
    },
    {
      "metadata": {
        "trusted": true
      },
      "cell_type": "code",
      "source": "positive_wordcloud = WordCloud(max_words=100, background_color=\"white\").generate(positive_tweet_text)",
      "execution_count": null,
      "outputs": []
    },
    {
      "metadata": {
        "trusted": true
      },
      "cell_type": "code",
      "source": "plt.imshow(positive_wordcloud, interpolation='bilinear')\nplt.axis(\"off\")\nplt.show()",
      "execution_count": null,
      "outputs": []
    },
    {
      "metadata": {
        "trusted": true
      },
      "cell_type": "code",
      "source": "positive_wordcloud.to_file(\"positive_word_cloud_1.png\")",
      "execution_count": null,
      "outputs": []
    },
    {
      "metadata": {
        "trusted": true
      },
      "cell_type": "code",
      "source": "t1_negative",
      "execution_count": null,
      "outputs": []
    },
    {
      "metadata": {
        "trusted": true
      },
      "cell_type": "code",
      "source": "negative_tweet_text = t1_negative.select(\"Text\").as_text()\nnegative_tweet_text",
      "execution_count": null,
      "outputs": []
    },
    {
      "metadata": {
        "trusted": true
      },
      "cell_type": "code",
      "source": "negative_wordcloud = WordCloud(max_words=100, background_color=\"white\").generate(negative_tweet_text)",
      "execution_count": null,
      "outputs": []
    },
    {
      "metadata": {
        "trusted": true
      },
      "cell_type": "code",
      "source": "plt.imshow(negative_wordcloud, interpolation='bilinear')\nplt.axis(\"off\")\nplt.show()",
      "execution_count": null,
      "outputs": []
    },
    {
      "metadata": {
        "trusted": true
      },
      "cell_type": "code",
      "source": "negative_wordcloud.to_file(\"negative_word_cloud_1.png\")",
      "execution_count": null,
      "outputs": []
    }
  ],
  "metadata": {
    "kernelspec": {
      "name": "python3",
      "display_name": "Python 3",
      "language": "python"
    },
    "language_info": {
      "mimetype": "text/x-python",
      "nbconvert_exporter": "python",
      "name": "python",
      "pygments_lexer": "ipython3",
      "version": "3.5.4",
      "file_extension": ".py",
      "codemirror_mode": {
        "version": 3,
        "name": "ipython"
      }
    }
  },
  "nbformat": 4,
  "nbformat_minor": 2
}